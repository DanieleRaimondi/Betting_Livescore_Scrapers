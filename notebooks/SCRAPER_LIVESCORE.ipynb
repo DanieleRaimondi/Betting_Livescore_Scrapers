{
  "cells": [
    {
      "cell_type": "code",
      "execution_count": null,
      "metadata": {
        "colab": {},
        "colab_type": "code",
        "id": "BZm0Kyc8vTVb"
      },
      "outputs": [],
      "source": [
        "from google.colab import drive\n",
        "drive.mount('/content/drive')"
      ]
    },
    {
      "cell_type": "markdown",
      "metadata": {
        "colab_type": "text",
        "id": "wT8aPEmBKq0v"
      },
      "source": [
        "Installing python packages"
      ]
    },
    {
      "cell_type": "code",
      "execution_count": null,
      "metadata": {
        "colab": {},
        "colab_type": "code",
        "id": "PfHj9D62vTRX"
      },
      "outputs": [],
      "source": [
        "!pip install selenium #Keep also if working from local\n",
        "!apt-get update #Comment this row if working from local\n",
        "!apt install chromium-chromedriver #Comment this row if working from local (but the Chrome Driver should be manually installed)\n",
        "!cp /usr/lib/chromium-browser/chromedriver /usr/bin #Comment this row if working from local\n",
        "!pip install azure-storage-blob==2.1.0\n",
        "!apt-get install unixodbc-dev\n",
        "!pip install pyodbc"
      ]
    },
    {
      "cell_type": "markdown",
      "metadata": {
        "colab_type": "text",
        "id": "JcLhXcdwKum_"
      },
      "source": [
        "Downloading and installing the odbc driver for SQL Server 2017 directly from the Microsoft website "
      ]
    },
    {
      "cell_type": "code",
      "execution_count": null,
      "metadata": {
        "colab": {},
        "colab_type": "code",
        "id": "RRqnJHr8EhnO"
      },
      "outputs": [],
      "source": [
        "%%sh\n",
        "curl https://packages.microsoft.com/keys/microsoft.asc | apt-key add -\n",
        "curl https://packages.microsoft.com/config/ubuntu/16.04/prod.list > /etc/apt/sources.list.d/mssql-release.list\n",
        "sudo apt-get update\n",
        "sudo ACCEPT_EULA=Y apt-get -q -y install msodbcsql17"
      ]
    },
    {
      "cell_type": "markdown",
      "metadata": {
        "colab_type": "text",
        "id": "zWBUjlcnK_zB"
      },
      "source": [
        "Importing modules"
      ]
    },
    {
      "cell_type": "code",
      "execution_count": null,
      "metadata": {
        "colab": {},
        "colab_type": "code",
        "id": "aEO52mRovTN8"
      },
      "outputs": [],
      "source": [
        "import sys\n",
        "sys.path.insert(0,'/usr/lib/chromium-browser/chromedriver')\n",
        "from selenium import webdriver\n",
        "from tqdm import tqdm_notebook as tqdm\n",
        "import pandas as pd\n",
        "import datetime as dt\n",
        "from selenium.webdriver.common.by import By\n",
        "from selenium.webdriver.support.ui import WebDriverWait\n",
        "from selenium.webdriver.support import expected_conditions as EC\n",
        "import warnings\n",
        "from azure.storage.blob import BlockBlobService\n",
        "from azure.storage.blob import ContentSettings\n",
        "import re\n",
        "import matplotlib.pyplot as plt\n",
        "import matplotlib.image as mpimg\n",
        "warnings.filterwarnings(\"ignore\")\n",
        "from datetime import datetime\n",
        "import pytz\n",
        "import time\n",
        "import pyodbc"
      ]
    },
    {
      "cell_type": "code",
      "execution_count": null,
      "metadata": {
        "colab": {},
        "colab_type": "code",
        "id": "nDtL-G_6vTK-"
      },
      "outputs": [],
      "source": [
        "chrome_options = webdriver.ChromeOptions()\n",
        "chrome_options.add_argument('--headless')\n",
        "chrome_options.add_argument('--no-sandbox')\n",
        "chrome_options.add_argument('--disable-dev-shm-usage')"
      ]
    },
    {
      "cell_type": "code",
      "execution_count": null,
      "metadata": {
        "colab": {},
        "colab_type": "code",
        "id": "frzXonGyvTH8"
      },
      "outputs": [],
      "source": [
        "#set local timezone and test result\n",
        "local_tz = pytz.timezone('Europe/Rome')\n",
        "print(datetime.now(local_tz))"
      ]
    },
    {
      "cell_type": "markdown",
      "metadata": {
        "colab_type": "text",
        "id": "2VkAaSpdLDH_"
      },
      "source": [
        "Setting the connection to the Azure SQL Database"
      ]
    },
    {
      "cell_type": "code",
      "execution_count": null,
      "metadata": {
        "colab": {},
        "colab_type": "code",
        "id": "S8xZQewCE_-o"
      },
      "outputs": [],
      "source": [
        "#db Azure variables\n",
        "server = 'betsinsights.database.windows.net'\n",
        "database = 'BETS' \n",
        "username = 'admin' \n",
        "password = 'xxx' \n",
        "cnxn = pyodbc.connect('DRIVER={ODBC Driver 17 for SQL Server};SERVER='+server+';DATABASE='+database+';UID='+username+';PWD='+ password)\n",
        "cursor = cnxn.cursor()"
      ]
    },
    {
      "cell_type": "markdown",
      "metadata": {
        "colab_type": "text",
        "id": "zLDeb_18IGYp"
      },
      "source": [
        "Configuration"
      ]
    },
    {
      "cell_type": "code",
      "execution_count": null,
      "metadata": {
        "colab": {},
        "colab_type": "code",
        "id": "zmDptPpoFFkD"
      },
      "outputs": [],
      "source": [
        "#Create variables for unique game ID (check the table DIM_TEAMS on the DB to verify if the team exists and its complete name)\n",
        "team_1 = 'SquadraCasa'\n",
        "team_2 = 'SquadraTrasferta'\n",
        "descr_match = 'SquadraCasa-SquadraTrasferta'\n",
        "date_match = 'Data'\n",
        "CODICEPARTITA = 'codicepartita'  #inserire codice partita\n",
        "#----------------------------------------------------------------------------------------------------------------------------------------------------------------------------------------------------------------------------#\n",
        "#stats\n",
        "\n",
        "link0 = (f'https://www.diretta.it/partita/{CODICEPARTITA}/#statistiche-partite;0')\n",
        "link1 = (f'https://www.diretta.it/partita/{CODICEPARTITA}/#statistiche-partite;1')\n",
        "link2 = (f'https://www.diretta.it/partita/{CODICEPARTITA}/#statistiche-partite;2')\n",
        "\n",
        "\n",
        "#comments\n",
        "link = (f'https://www.diretta.it/partita/{CODICEPARTITA}/#cronaca-live;0')\n",
        "\n",
        "delay = 15\n",
        "filename_stats = (f'{descr_match}_{date_match}_STATS.csv')\n",
        "filename_comments = (f'{descr_match}_{date_match}_COMMENTS.csv')\n",
        "path_stats = (f'/content/drive/My Drive/STATS/{filename_stats}')\n",
        "path_comments = (f'/content/drive/My Drive/STATS/{filename_comments}')"
      ]
    },
    {
      "cell_type": "markdown",
      "metadata": {
        "colab_type": "text",
        "id": "iPd5ZUBaLN3S"
      },
      "source": [
        "Functions"
      ]
    },
    {
      "cell_type": "code",
      "execution_count": null,
      "metadata": {
        "colab": {},
        "colab_type": "code",
        "id": "0-hswJu8FKhV"
      },
      "outputs": [],
      "source": [
        "#----------------------------------------------------------------------------------------------------------------------------------------------------------------------------------------------------------------------------#   \n",
        "def webpage_shot():\n",
        "    wd0.save_screenshot('screenshot.png')\n",
        "    %pylab inline\n",
        "    img=mpimg.imread('/content/screenshot.png')\n",
        "    imgplot = plt.imshow(img)\n",
        "    print(wd.title)\n",
        "    return plt.show()\n",
        "#----------------------------------------------------------------------------------------------------------------------------------------------------------------------------------------------------------------------------#   \n",
        "#uploading of the file to Azure container\n",
        "def upload_file_to_Azure(path,filename,c_name):\n",
        "\n",
        "  block_blob_service = BlockBlobService(account_name='bets', account_key='xxx')\n",
        "  container_name = c_name\n",
        "\n",
        "  try:\n",
        "      block_blob_service.create_blob_from_path(container_name,filename,path,content_settings=ContentSettings(content_type='application/CSV'))\n",
        "      print(f'{filename} have been successfully imported into the Azure container {container_name}')  \n",
        "  except Exception as e:\n",
        "      print(e)\n",
        "      pass\n",
        "#----------------------------------------------------------------------------------------------------------------------------------------------------------------------------------------------------------------------------#     \n",
        "\n",
        "#create the id match for the current match\n",
        "def create_id_match(c,conn,t1,t2,descr_match,dm):\n",
        "\n",
        "  id_team_1 = \"\"\n",
        "  id_team_2 = \"\"\n",
        "  id_match = \"\"\n",
        "  \n",
        "  try:\n",
        "   c.execute(\"select id_team from dbo.DIM_Teams where team like trim(upper(?))\",'%'+ t1 + '%')\n",
        "   id_team_1 = c.fetchone()\n",
        "   if id_team_1 is None:\n",
        "     raise Exception('Unable to decode team1:',t1) \n",
        "   else:\n",
        "     print('id_team_1 is:',id_team_1[0])\n",
        "  except Exception as e1:\n",
        "    print(e1)\n",
        "\n",
        "  try:\n",
        "   c.execute(\"select id_team from dbo.DIM_Teams where team like trim(upper(?))\",'%'+ t2 + '%')  \n",
        "   id_team_2 = c.fetchone()\n",
        "   if id_team_2 is None:\n",
        "     raise Exception('Unable to decode team2:',t2) \n",
        "   else:\n",
        "     print('id_team_2 is:',id_team_2[0])\n",
        "  except Exception as e2:\n",
        "    print(e2)\n",
        "    \n",
        "  id_match = str(id_team_1[0]).zfill(6) + str(id_team_2[0]).zfill(6) + date_match \n",
        "  \n",
        "  try:\n",
        "   c.execute(\"INSERT INTO DIM_Match (id_match, match, id_team_1, id_team_2, date_match) VALUES (?,?,?,?,?)\",id_match,descr_match,id_team_1[0],id_team_2[0],date_match) \n",
        "   conn.commit()\n",
        "  except Exception as e3:\n",
        "    print(e3)\n",
        "\n",
        "  return id_match\n",
        "\n",
        "#----------------------------------------------------------------------------------------------------------------------------------------------------------------------------------------------------------------------------#\n",
        "# decode te icon class in each comment row\n",
        "\n",
        "def decode_icon(s,min):\n",
        "\n",
        "  result_icon = ''\n",
        "  \n",
        "  try:\n",
        "    icon_descr = s.find_elements_by_css_selector('div.icon-phrase span.icon')[0].get_attribute(\"class\")\n",
        "    if icon_descr == 'icon whistle' and min == 90:\n",
        "      result_icon = 'fischio di fine'\n",
        "    if icon_descr == 'icon whistle' and min == 1:\n",
        "      result_icon = 'fischio di inizio'\n",
        "    if icon_descr == 'icon whistle' and min == 45:\n",
        "      result_icon = 'fine primo tempo'\n",
        "    if icon_descr == 'icon whistle' and min == 46:\n",
        "      result_icon = 'inizio secondo tempo'  \n",
        "    if icon_descr == 'icon yr-card':\n",
        "      result_icon = 'secondo cartellino giallo e espulsione'\n",
        "    if icon_descr == 'icon y-card':\n",
        "      result_icon = 'cartellino giallo'\n",
        "    if icon_descr == 'icon funfact':\n",
        "      result_icon = 'informazione'\n",
        "    if icon_descr == 'icon soccer-ball':\n",
        "      result_icon = 'goal'\n",
        "    if icon_descr == 'icon soccer-ball-own':\n",
        "      result_icon = 'autogol'      \n",
        "    if icon_descr == 'icon r-card':\n",
        "      result_icon = 'cartellino rosso'\n",
        "    if icon_descr == 'icon lineup1':\n",
        "      result_icon = 'formazione'\n",
        "    if icon_descr == 'icon substitution':\n",
        "      result_icon = 'sostituzione'\n",
        "    if icon_descr == 'icon time':\n",
        "      result_icon = 'recupero'\n",
        "    if icon_descr == 'icon injury':\n",
        "      result_icon = 'infortunio'\n",
        "    if icon_descr == 'icon corner':\n",
        "      result_icon = 'angolo'      \n",
        "  except Exception as e:\n",
        "    pass\n",
        "  return result_icon  "
      ]
    },
    {
      "cell_type": "markdown",
      "metadata": {
        "colab_type": "text",
        "id": "sNMER2J7LS3V"
      },
      "source": [
        "Creating an identifier for this match if it doesn't exist"
      ]
    },
    {
      "cell_type": "code",
      "execution_count": null,
      "metadata": {
        "colab": {},
        "colab_type": "code",
        "id": "AKF7Rk87FPDo"
      },
      "outputs": [],
      "source": [
        "#Create unique game ID\n",
        "\n",
        "id_match = \"\"\n",
        "\n",
        "try:\n",
        " cursor.execute(\"SELECT id_match from dbo.DIM_Match m inner join dbo.DIM_Teams t1 on m.id_team_1 = t1.id_team and t1.team = ? inner join dbo.DIM_Teams t2 on m.id_team_2 = t2.id_team and t2.team = ? where date_match = ?\",(team_1,team_2,date_match))\n",
        " id_match = cursor.fetchone() \n",
        " if id_match is None:\n",
        "  print('id_match has to be created')\n",
        "  id_match = create_id_match(cursor,cnxn,team_1,team_2,descr_match,date_match)\n",
        "  print('New id_match is: ',id_match)\n",
        " else:\n",
        "  id_match = id_match[0]\n",
        "  print('id_match already exists for this match:',id_match)\n",
        "except Exception as e:\n",
        "  print(e)"
      ]
    },
    {
      "cell_type": "markdown",
      "metadata": {
        "colab_type": "text",
        "id": "7qws6SXtIcGa"
      },
      "source": [
        "MATCH STATISTICS - EXTRACTION"
      ]
    },
    {
      "cell_type": "code",
      "execution_count": null,
      "metadata": {
        "colab": {},
        "colab_type": "code",
        "id": "ptkcl_gAvTCO"
      },
      "outputs": [],
      "source": [
        "tab_stats0 = []\n",
        "tab_stats1 = []\n",
        "tab_stats2 =[]\n",
        "all_stats = []\n",
        "i = 0\n",
        "k = 0\n",
        "c = 0\n",
        "\n",
        "wd = webdriver.Chrome('chromedriver',chrome_options=chrome_options)\n",
        "wd.maximize_window()\n",
        "\n",
        "wd0 = webdriver.Chrome('chromedriver',chrome_options=chrome_options)\n",
        "wd0.maximize_window()\n",
        "wd0.get(link0)\n",
        "\n",
        "wd1 = webdriver.Chrome('chromedriver',chrome_options=chrome_options)\n",
        "wd1.maximize_window()\n",
        "wd1.get(link1)\n",
        "\n",
        "wd2 = webdriver.Chrome('chromedriver',chrome_options=chrome_options)\n",
        "wd2.maximize_window()\n",
        "wd2.get(link2)\n",
        "\n",
        "time.sleep(delay)\n",
        "\n",
        "webpage_shot()\n",
        "\n",
        "team_1 = wd0.find_elements_by_css_selector('div.team-text.tname-home a')[0].text\n",
        "team_2 = wd0.find_elements_by_css_selector('div.team-text.tname-away a')[0].text\n",
        "info_match = wd0.find_elements_by_css_selector('span.description__country')[0].text\n",
        "date_match = wd0.find_elements_by_class_name('description__time')[0].text\n",
        "\n",
        "print(team_1)\n",
        "print(team_2)\n",
        "print(info_match)\n",
        "print(date_match)\n",
        "\n",
        "status = 'prematch'\n",
        "while status != 'Finale' and k < 600: \n",
        "  wd0.get(link0)\n",
        "  wd1.get(link1)\n",
        "  wd2.get(link2)\n",
        "  time.sleep(delay)\n",
        "  tms_loading = dt.datetime.now(local_tz)\n",
        "  try:\n",
        "    status = wd0.find_elements_by_css_selector('div.info-status.mstat')[0].text\n",
        "    print(status)\n",
        "    if status != 'Finale':\n",
        "      if status == 'Intervallo' and c == 0:\n",
        "        c = 1\n",
        "        print('c = 1')\n",
        "      if status != 'Intervallo' :\n",
        "        status = int(status.split('- ')[1].split(':')[0]) + 1\n",
        "        if c == 0 and (status - 45) > 0:\n",
        "          status = 45\n",
        "          print('status = 45')\n",
        "    print(status)\n",
        "    result = wd0.find_elements_by_css_selector('#event_detail_current_result')[0].text.replace(\"\"\"\\n\"\"\",\"\")\n",
        "    print(result)\n",
        "  except:\n",
        "    pass\n",
        "  try:\n",
        "    tab_stats0 = wd0.find_element_by_id(\"tab-statistics-0-statistic\")\n",
        "  except:\n",
        "    pass\n",
        "  try:\n",
        "    tab_stats1 = wd1.find_element_by_id(\"tab-statistics-1-statistic\")\n",
        "  except:\n",
        "    pass\n",
        "  try:\n",
        "    tab_stats2 = wd2.find_element_by_id(\"tab-statistics-2-statistic\")\n",
        "  except:\n",
        "    pass\n",
        "  try:\n",
        "    num = len(tab_stats0.find_elements_by_css_selector(\"div.statRow\"))\n",
        "  except:\n",
        "    num = 0\n",
        "  #num1 = len(tab_stats1.find_elements_by_css_selector(\"div.statRow\"))\n",
        "  print(k)\n",
        "  print(i)\n",
        "  k += 1\n",
        "  i = 0\n",
        "  try:\n",
        "    while  i < num:\n",
        "      try:\n",
        "        team_1_value0 = tab_stats0.find_elements_by_css_selector('div.statText.statText--homeValue')[i].text\n",
        "        team_2_value0 = tab_stats0.find_elements_by_css_selector('div.statText.statText--awayValue')[i].text\n",
        "        stat_name0 = tab_stats0.find_elements_by_css_selector('div.statText.statText--titleValue')[i].text\n",
        "      except:\n",
        "        team_1_value0 = None\n",
        "        team_2_value0 = None\n",
        "        stat_name0 = None\n",
        "      try:\n",
        "        team_1_value1 = tab_stats1.find_elements_by_css_selector('div.statText.statText--homeValue')[i].text\n",
        "        team_2_value1 = tab_stats1.find_elements_by_css_selector('div.statText.statText--awayValue')[i].text\n",
        "        stat_name1 = tab_stats1.find_elements_by_css_selector('div.statText.statText--titleValue')[i].text\n",
        "      except:\n",
        "        team_1_value1 = None\n",
        "        team_2_value1 = None\n",
        "        stat_name1 = None\n",
        "      try:\n",
        "        team_1_value2 = tab_stats2.find_elements_by_css_selector('div.statText.statText--homeValue')[i].text\n",
        "        team_2_value2 = tab_stats2.find_elements_by_css_selector('div.statText.statText--awayValue')[i].text\n",
        "        stat_name2 = tab_stats2.find_elements_by_css_selector('div.statText.statText--titleValue')[i].text\n",
        "      except:\n",
        "        team_1_value2 = None\n",
        "        team_2_value2 = None\n",
        "        stat_name2 = None\n",
        "      # Schermata 90'\n",
        "      if stat_name0 == 'Possesso Palla':\n",
        "        team_1_value0 = team_1_value0.replace('%','')\n",
        "        team_2_value0 = team_2_value0.replace('%','')\n",
        "      if team_1_value0 != 0 and stat_name0 == 'Possesso Palla':\n",
        "        team_1_value0 = int(team_1_value0)/100\n",
        "      if team_2_value0 != 0 and stat_name0 == 'Possesso Palla':\n",
        "        team_2_value0 = int(team_2_value0)/100\n",
        "      # Schermata Primo Tempo\n",
        "      if stat_name1 == 'Possesso Palla':\n",
        "        team_1_value1 = team_1_value1.replace('%','')\n",
        "        team_2_value1 = team_2_value1.replace('%','')\n",
        "      if team_1_value1 != 0 and stat_name1 == 'Possesso Palla':\n",
        "        team_1_value1 = int(team_1_value1)/100\n",
        "      if team_2_value1 != 0 and stat_name1 == 'Possesso Palla':\n",
        "        team_2_value1 = int(team_2_value1)/100\n",
        "      # Schermata Secondo Tempo\n",
        "      if stat_name2 == 'Possesso Palla':\n",
        "        team_1_value2 = team_1_value2.replace('%','')\n",
        "        team_2_value2 = team_2_value2.replace('%','')\n",
        "      if team_1_value2 != 0 and stat_name2 == 'Possesso Palla':\n",
        "        team_1_value2 = int(team_1_value2)/100\n",
        "      if team_2_value2 != 0 and stat_name2 == 'Possesso Palla':\n",
        "        team_2_value2 = int(team_2_value2)/100    \n",
        "      i += 1\n",
        "      all_stats.append({'ID': id_match,\n",
        "                        'tms_loading': tms_loading,\n",
        "                        'team_1': team_1,\n",
        "                        'team_2': team_2, \n",
        "                        'info_match': info_match,\n",
        "                        'date_match': date_match,\n",
        "                        'status': status,\n",
        "                        'result' : result,\n",
        "                        'stat_name': stat_name0,\n",
        "                        'team_1_value0': team_1_value0,\n",
        "                        'team_2_value0':team_2_value0,  \n",
        "                        'team_1_value1': team_1_value1,\n",
        "                        'team_2_value1':team_2_value1,                      \n",
        "                        'team_1_value2': team_1_value2,\n",
        "                        'team_2_value2':team_2_value2                             \n",
        "                        })\n",
        "  except:\n",
        "    pass"
      ]
    },
    {
      "cell_type": "code",
      "execution_count": null,
      "metadata": {
        "colab": {},
        "colab_type": "code",
        "id": "o5irSZUXJa9M"
      },
      "outputs": [],
      "source": [
        "ds_all_stats= pd.DataFrame(all_stats)\n",
        "display(ds_all_stats)"
      ]
    },
    {
      "cell_type": "markdown",
      "metadata": {
        "colab_type": "text",
        "id": "OA3h3V-yJJzY"
      },
      "source": [
        "MATCH COMMENTS - EXTRACTION"
      ]
    },
    {
      "cell_type": "code",
      "execution_count": null,
      "metadata": {
        "colab": {},
        "colab_type": "code",
        "id": "GF-UAYTcneI9"
      },
      "outputs": [],
      "source": [
        "#waiting for all comments are updated\n",
        "time.sleep(60)\n",
        "wd = webdriver.Chrome('chromedriver',chrome_options=chrome_options)\n",
        "wd.maximize_window()\n",
        "wd.get(link)\n",
        "time.sleep(delay)\n",
        "webpage_shot()"
      ]
    },
    {
      "cell_type": "code",
      "execution_count": null,
      "metadata": {
        "colab": {},
        "colab_type": "code",
        "id": "EQz3NPgopGK9"
      },
      "outputs": [],
      "source": [
        "team_1 = wd.find_elements_by_css_selector('div.team-text.tname-home')[0].text\n",
        "team_2 = wd.find_elements_by_css_selector('div.team-text.tname-away')[0].text\n",
        "info_match = wd.find_elements_by_css_selector('span.description__country')[0].text\n",
        "date_match = wd.find_elements_by_class_name('description__time')[0].text"
      ]
    },
    {
      "cell_type": "code",
      "execution_count": null,
      "metadata": {
        "colab": {},
        "colab_type": "code",
        "id": "mkKWBQ9WI7dm"
      },
      "outputs": [],
      "source": [
        "all_comments = []\n",
        "\n",
        "tms_loading = '' \n",
        "comment_icon = ''\n",
        "comment_minute = ''\n",
        "comment_team = ''\n",
        "comment_text = ''\n",
        "\n",
        "i = 0\n",
        "k = 0\n",
        "      \n",
        "try:\n",
        "\n",
        "  tab_xpath = wd.find_elements_by_xpath('//*[@id=\"tab-commentary-0-phrase\"]')\n",
        "  for c in tab_xpath:\n",
        "     tabella = c.find_element_by_tag_name('tbody')\n",
        "\n",
        "  while comment_icon != 'fischio di inizio' :\n",
        "\n",
        "     tms_loading = dt.datetime.now()\n",
        "     row = tabella.find_elements_by_tag_name('tr')[i].text\n",
        "     \n",
        "     #minute \n",
        "     comment_minute = row.partition('\\n')[0]\n",
        "     comment_minute = comment_minute.replace(\"'\",\"\")\n",
        "     comment_minute = comment_minute.strip()\n",
        "\n",
        "     minute_part_1 = int(comment_minute.partition('+')[0])\n",
        "     minute_part_2 = comment_minute.partition('+')[2]\n",
        "     if minute_part_2 == '':\n",
        "      minute_part_2 = 0\n",
        "     minute_part_2 = int(minute_part_2)\n",
        "     if comment_icon == 'inizio secondo tempo':\n",
        "       k = 1\n",
        "     if k == 1:\n",
        "      comment_minute = minute_part_1\n",
        "     else:\n",
        "       comment_minute = minute_part_1 + minute_part_2\n",
        "\n",
        "     #icon decoding\n",
        "     \n",
        "     icon_row = tabella.find_elements_by_tag_name('tr')[i]\n",
        "     comment_icon = decode_icon(icon_row,minute_part_1)\n",
        "\n",
        "     #comment\n",
        "     comment_text = row.partition('\\n')[2]\n",
        "     comment_text = comment_text.strip()\n",
        "\n",
        "     #comment related to one of a team\n",
        "     comment_team = re.search('\\((.*?)\\)',comment_text,re.IGNORECASE)\n",
        "     if comment_team is None:\n",
        "       comment_team =''\n",
        "     else:\n",
        "       comment_team = comment_team.group()\n",
        "       comment_team = comment_team.strip('()')\n",
        "\n",
        "     i += 1\n",
        "     \n",
        "     all_comments.append({'id': id_match,\n",
        "                          'tms_loading':tms_loading,\n",
        "                          'info_match': info_match,\n",
        "                          'comment_minute': comment_minute,\n",
        "                          'comment_icon': comment_icon,\n",
        "                          'comment_team':comment_team,\n",
        "                          'comment_text': comment_text\n",
        "                          })\n",
        "except Exception as e:\n",
        "  print(e)"
      ]
    },
    {
      "cell_type": "code",
      "execution_count": null,
      "metadata": {
        "colab": {},
        "colab_type": "code",
        "id": "LH5yWek8KZyn"
      },
      "outputs": [],
      "source": [
        "ds_all_comments= pd.DataFrame(all_comments)\n",
        "display(ds_all_comments)"
      ]
    },
    {
      "cell_type": "markdown",
      "metadata": {
        "colab_type": "text",
        "id": "pgnMoQTPJohy"
      },
      "source": [
        "Preparing csv"
      ]
    },
    {
      "cell_type": "code",
      "execution_count": null,
      "metadata": {
        "colab": {},
        "colab_type": "code",
        "id": "s4BWMILHvSm2"
      },
      "outputs": [],
      "source": [
        "ds_all_stats.to_csv(f'{path_stats}',index = False)\n",
        "ds_all_comments.to_csv(f'{path_comments}',index = False)"
      ]
    },
    {
      "cell_type": "markdown",
      "metadata": {
        "colab_type": "text",
        "id": "SyULGPRvJsCJ"
      },
      "source": [
        "Loading to Azure containers"
      ]
    },
    {
      "cell_type": "code",
      "execution_count": null,
      "metadata": {
        "colab": {},
        "colab_type": "code",
        "id": "TIX6jnz3GUWl"
      },
      "outputs": [],
      "source": [
        "upload_file_to_Azure(path_stats,filename_stats,'bets-datasets-diretta-stats')\n",
        "upload_file_to_Azure(path_comments,filename_comments,'bets-datasets-diretta-comment')"
      ]
    }
  ],
  "metadata": {
    "colab": {
      "collapsed_sections": [],
      "name": "SCRAPER_DIRETTA.ipynb",
      "provenance": []
    },
    "kernelspec": {
      "display_name": "Python 3",
      "name": "python3"
    }
  },
  "nbformat": 4,
  "nbformat_minor": 0
}
